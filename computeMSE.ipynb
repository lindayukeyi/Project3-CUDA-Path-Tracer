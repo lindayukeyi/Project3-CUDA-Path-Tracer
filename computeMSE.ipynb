{
  "nbformat": 4,
  "nbformat_minor": 0,
  "metadata": {
    "colab": {
      "name": "Untitled2.ipynb",
      "provenance": []
    },
    "kernelspec": {
      "name": "python3",
      "display_name": "Python 3"
    }
  },
  "cells": [
    {
      "cell_type": "code",
      "metadata": {
        "id": "GvFNJVRDB8pO"
      },
      "source": [
        "import matplotlib.pyplot as plt\n",
        "import numpy as np\n",
        "import cv2\n",
        "from PIL import Image"
      ],
      "execution_count": 1,
      "outputs": []
    },
    {
      "cell_type": "code",
      "metadata": {
        "id": "PTGDgXrSFqt9"
      },
      "source": [
        "def mse(px1, px2):\n",
        "  return (px1[0] - px2[0]) ** 2 + (px1[1] - px2[1]) ** 2 + (px1[2] - px2[2]) ** 2"
      ],
      "execution_count": 2,
      "outputs": []
    },
    {
      "cell_type": "code",
      "metadata": {
        "id": "mYxRcH9zCGnz",
        "outputId": "c90d4be8-9e02-4714-dea0-cb649e8e8613",
        "colab": {
          "base_uri": "https://localhost:8080/",
          "height": 51
        }
      },
      "source": [
        "img_ref = Image.open(\"cornell.2020-10-17_19-52-29z.2200samp.png\")\n",
        "img_rt = Image.open(\"cornell.2020-10-19_18-07-02z.120samp.png\")\n",
        "img_denoise = Image.open(\"denoise_cornell.2020-10-19_18-07-02z.120samp.png\")\n",
        "\n",
        "width, height = img_ref.size \n",
        "coord = 0, 0\n",
        "\n",
        "dif_ref_rt = 0\n",
        "dif_ref_denoise = 0\n",
        "\n",
        "for i in range(width):\n",
        "  for j in range(height):\n",
        "    coord = i, j \n",
        "    px_ref = img_ref.getpixel(coord)\n",
        "    px_rt = img_rt.getpixel(coord)\n",
        "    px_denoise = img_denoise.getpixel(coord)\n",
        "\n",
        "    dif_ref_rt += mse(px_ref, px_rt)\n",
        "    dif_ref_denoise += mse(px_ref, px_denoise)\n",
        "\n",
        "    #print(px_ref, px_rt, px_denoise)\n",
        "\n",
        "print(dif_ref_rt / (width * height))\n",
        "print(dif_ref_denoise / (width * height))"
      ],
      "execution_count": 7,
      "outputs": [
        {
          "output_type": "stream",
          "text": [
            "590.350078125\n",
            "55.61964375\n"
          ],
          "name": "stdout"
        }
      ]
    }
  ]
}